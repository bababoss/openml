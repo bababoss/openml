{
 "cells": [
  {
   "cell_type": "markdown",
   "id": "65c58e44-eff7-4a49-a0a2-3948fe79ee1c",
   "metadata": {},
   "source": []
  },
  {
   "cell_type": "markdown",
   "id": "c7f3b6a9-92a5-46a2-a4f0-1ad5fab4a3ef",
   "metadata": {},
   "source": [
    "# Exercise 1: Convert two lists into a dictionary"
   ]
  },
  {
   "cell_type": "code",
   "execution_count": 1,
   "id": "004960f9-4b64-4a71-aaf3-1951a40fa071",
   "metadata": {},
   "outputs": [],
   "source": [
    "keys = ['Ten', 'Twenty', 'Thirty']\n",
    "values = [10, 20, 30]"
   ]
  },
  {
   "cell_type": "markdown",
   "id": "9917f45d-b9c4-4c80-b3ab-9f0f0cbe0f20",
   "metadata": {},
   "source": [
    "### Soulution-1"
   ]
  },
  {
   "cell_type": "code",
   "execution_count": 3,
   "id": "3dd2d8fd-bc56-4b3f-a9e1-f4f2379a7781",
   "metadata": {},
   "outputs": [
    {
     "data": {
      "text/plain": [
       "{'Ten': 10, 'Twenty': 20, 'Thirty': 30}"
      ]
     },
     "execution_count": 3,
     "metadata": {},
     "output_type": "execute_result"
    }
   ],
   "source": [
    "dictdata={}\n",
    "for k,v in zip(keys,values):\n",
    "    dictdata[k]=v\n",
    "dictdata"
   ]
  },
  {
   "cell_type": "markdown",
   "id": "e4f37532-c588-4bbf-99f5-ea5ec1acbaf5",
   "metadata": {},
   "source": [
    "### Soulution-2"
   ]
  },
  {
   "cell_type": "code",
   "execution_count": 4,
   "id": "b853f3e1-b008-4c87-820e-a0ba0769526b",
   "metadata": {},
   "outputs": [
    {
     "data": {
      "text/plain": [
       "{'Ten': 10, 'Twenty': 20, 'Thirty': 30}"
      ]
     },
     "execution_count": 4,
     "metadata": {},
     "output_type": "execute_result"
    }
   ],
   "source": [
    "resdict=dict(zip(keys,values))\n",
    "resdict"
   ]
  },
  {
   "cell_type": "markdown",
   "id": "4349d0f6-68b5-40c3-865d-1614e3b8b446",
   "metadata": {},
   "source": [
    "# Exercise 2: Merge two Python dictionaries into one\n",
    "#### Solution-1"
   ]
  },
  {
   "cell_type": "code",
   "execution_count": 6,
   "id": "b6b8c4dc-86a1-4ef9-9ac8-b4c2f5ce1f99",
   "metadata": {},
   "outputs": [],
   "source": [
    "dict1 = {'Ten': 10, 'Twenty': 20, 'Thirty': 30}\n",
    "dict2 = {'Thirty': 30, 'Fourty': 40, 'Fifty': 50}\n"
   ]
  },
  {
   "cell_type": "code",
   "execution_count": 9,
   "id": "7f69e873-03df-4574-9ea6-2a3ddd6b3b88",
   "metadata": {},
   "outputs": [
    {
     "data": {
      "text/plain": [
       "{'Ten': 10, 'Twenty': 20, 'Thirty': 30, 'Fourty': 40, 'Fifty': 50}"
      ]
     },
     "execution_count": 9,
     "metadata": {},
     "output_type": "execute_result"
    }
   ],
   "source": [
    "dict1.update(dict2)\n",
    "dict1"
   ]
  },
  {
   "cell_type": "markdown",
   "id": "77942c09-d7f8-416c-956d-05a5cee720b7",
   "metadata": {},
   "source": [
    "#### Solution-2"
   ]
  },
  {
   "cell_type": "markdown",
   "id": "8162aa16-a40d-4e09-a5e1-f0bf2c48375d",
   "metadata": {},
   "source": [
    "# Exercise 3: Print the value of key ‘history’ from the below dict"
   ]
  },
  {
   "cell_type": "code",
   "execution_count": 10,
   "id": "8a083bc6-e23d-4f49-a188-c06d0f47e212",
   "metadata": {},
   "outputs": [],
   "source": [
    "sampleDict = {\n",
    "    \"class\": {\n",
    "        \"student\": {\n",
    "            \"name\": \"Mike\",\n",
    "            \"marks\": {\n",
    "                \"physics\": 70,\n",
    "                \"history\": 80\n",
    "            }\n",
    "        }\n",
    "    }\n",
    "}\n"
   ]
  },
  {
   "cell_type": "code",
   "execution_count": 11,
   "id": "e53fa260-00f4-4c66-a863-6aed2d2372d8",
   "metadata": {},
   "outputs": [
    {
     "data": {
      "text/plain": [
       "80"
      ]
     },
     "execution_count": 11,
     "metadata": {},
     "output_type": "execute_result"
    }
   ],
   "source": [
    "sampleDict['class'][\"student\"][\"marks\"][\"history\"]"
   ]
  },
  {
   "cell_type": "markdown",
   "id": "5ee525db-b8d6-4d95-bd55-536894951a90",
   "metadata": {},
   "source": [
    "# Exercise 4: Initialize dictionary with default values"
   ]
  },
  {
   "cell_type": "code",
   "execution_count": 12,
   "id": "0a72fceb-cc79-43eb-ba12-4ef793ba9821",
   "metadata": {},
   "outputs": [],
   "source": [
    "employees = ['Kelly', 'Emma']\n",
    "defaults = {\"designation\": 'Developer', \"salary\": 8000}"
   ]
  },
  {
   "cell_type": "code",
   "execution_count": 13,
   "id": "ac540040-7a21-4518-8ad7-7b8cc804133f",
   "metadata": {},
   "outputs": [],
   "source": [
    "res=dict.fromkeys(employees,defaults)"
   ]
  },
  {
   "cell_type": "code",
   "execution_count": 16,
   "id": "6b7bd7df-c9e7-46aa-85c0-e243e3ac9c8c",
   "metadata": {},
   "outputs": [
    {
     "data": {
      "text/plain": [
       "dict_keys(['Kelly', 'Emma'])"
      ]
     },
     "execution_count": 16,
     "metadata": {},
     "output_type": "execute_result"
    }
   ],
   "source": [
    "res.keys()"
   ]
  },
  {
   "cell_type": "markdown",
   "id": "f56ae996-4edf-41da-b014-c975f55bdee3",
   "metadata": {},
   "source": [
    "# Exercise 5: Create a dictionary by extracting the keys from a given dictionary"
   ]
  },
  {
   "cell_type": "code",
   "execution_count": 21,
   "id": "b3797c4f-af05-4144-b6e6-1a11c53d1ab0",
   "metadata": {},
   "outputs": [],
   "source": [
    "sample_dict = {\n",
    "    \"name\": \"Kelly\",\n",
    "    \"age\": 25,\n",
    "    \"salary\": 8000,\n",
    "    \"city\": \"New york\"}\n",
    "\n",
    "# Keys to extract\n",
    "keys = [\"name\", \"salary\"]"
   ]
  },
  {
   "cell_type": "markdown",
   "id": "f0f049c4-2a9a-4bf5-a6ca-b0497e614276",
   "metadata": {},
   "source": [
    "#### solutions-1"
   ]
  },
  {
   "cell_type": "code",
   "execution_count": 19,
   "id": "1e1e1029-6020-40ad-8184-8dc4b69a3b60",
   "metadata": {},
   "outputs": [
    {
     "data": {
      "text/plain": [
       "{'name': 'Kelly', 'salary': 8000}"
      ]
     },
     "execution_count": 19,
     "metadata": {},
     "output_type": "execute_result"
    }
   ],
   "source": [
    "resd=dict()\n",
    "for k in keys:\n",
    "    resd[k]=sample_dict[k]\n",
    "resd"
   ]
  },
  {
   "cell_type": "markdown",
   "id": "7c093cb6-41c9-4235-a7b8-1533da22b174",
   "metadata": {},
   "source": [
    "#### solution-2"
   ]
  },
  {
   "cell_type": "code",
   "execution_count": 31,
   "id": "64df2139-7fa5-4432-ab25-78e85770ced9",
   "metadata": {},
   "outputs": [
    {
     "name": "stdout",
     "output_type": "stream",
     "text": [
      "{'name': 'Kelly', 'salary': 8000}\n"
     ]
    }
   ],
   "source": [
    "newDict = {k: sample_dict[k] for k in keys}\n",
    "print(newDict)"
   ]
  },
  {
   "cell_type": "code",
   "execution_count": null,
   "id": "635cc810-f711-4abf-a4c9-fee7ae9c3d4c",
   "metadata": {},
   "outputs": [],
   "source": []
  }
 ],
 "metadata": {
  "kernelspec": {
   "display_name": "anomalib_env",
   "language": "python",
   "name": "anomalib_env"
  },
  "language_info": {
   "codemirror_mode": {
    "name": "ipython",
    "version": 3
   },
   "file_extension": ".py",
   "mimetype": "text/x-python",
   "name": "python",
   "nbconvert_exporter": "python",
   "pygments_lexer": "ipython3",
   "version": "3.8.12"
  }
 },
 "nbformat": 4,
 "nbformat_minor": 5
}

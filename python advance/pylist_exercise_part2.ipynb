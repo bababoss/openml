{
 "cells": [
  {
   "cell_type": "markdown",
   "id": "be8966f3-a354-4a1f-be06-4609482ea614",
   "metadata": {},
   "source": [
    "# Python variable "
   ]
  },
  {
   "cell_type": "code",
   "execution_count": 11,
   "id": "cfc65b59-b2e4-4014-8aa7-30b9d15e515f",
   "metadata": {},
   "outputs": [
    {
     "data": {
      "text/plain": [
       "str"
      ]
     },
     "execution_count": 11,
     "metadata": {},
     "output_type": "execute_result"
    }
   ],
   "source": [
    "a=3\n",
    "type(a)\n",
    "s=\"bababoss\"\n",
    "type(s)"
   ]
  },
  {
   "cell_type": "markdown",
   "id": "49762c7d-7e5a-4697-ba93-0bcecf2faefc",
   "metadata": {},
   "source": [
    "# Operator  "
   ]
  },
  {
   "cell_type": "code",
   "execution_count": null,
   "id": "9a892e43-272d-4cc8-9b2f-f0bcacbc96c2",
   "metadata": {},
   "outputs": [],
   "source": [
    "+ -, *, /"
   ]
  },
  {
   "cell_type": "code",
   "execution_count": 20,
   "id": "1bf11b78-2f42-447b-b83f-9f2e0e09f3fd",
   "metadata": {},
   "outputs": [
    {
     "name": "stdout",
     "output_type": "stream",
     "text": [
      "2.0\n"
     ]
    },
    {
     "data": {
      "text/plain": [
       "float"
      ]
     },
     "execution_count": 20,
     "metadata": {},
     "output_type": "execute_result"
    }
   ],
   "source": [
    "a=8\n",
    "b=4\n",
    "\n",
    "a+b\n",
    "\n",
    "c=a-b\n",
    "c=a/b\n",
    "print(c)\n",
    "type(c)\n",
    "\n",
    "# int/int == float"
   ]
  },
  {
   "cell_type": "markdown",
   "id": "69d5dd94-d7be-4da5-825c-60dddc6ee497",
   "metadata": {},
   "source": [
    "# If Else:"
   ]
  },
  {
   "cell_type": "code",
   "execution_count": null,
   "id": "57ee67e3-52a6-41bd-8c5a-2ea14bd6ad2f",
   "metadata": {},
   "outputs": [],
   "source": [
    "If (conditions):\n",
    "    # write here your code\n"
   ]
  },
  {
   "cell_type": "code",
   "execution_count": 23,
   "id": "1e62a3d6-eeec-4339-9ac2-7447ed33d069",
   "metadata": {},
   "outputs": [
    {
     "name": "stdout",
     "output_type": "stream",
     "text": [
      "False\n"
     ]
    }
   ],
   "source": [
    "a=3\n",
    "b=5\n",
    "if a>b:\n",
    "    print(\"a less then b\")\n",
    "else:\n",
    "    print(\"False\")"
   ]
  },
  {
   "cell_type": "markdown",
   "id": "79554ac4-c324-4b70-8d08-4c1f43885a9c",
   "metadata": {},
   "source": [
    "# Loops and Control Statements"
   ]
  },
  {
   "cell_type": "code",
   "execution_count": 24,
   "id": "1a2bfa36-a2f6-4c38-b102-244266e815d0",
   "metadata": {},
   "outputs": [
    {
     "name": "stdout",
     "output_type": "stream",
     "text": [
      "0\n",
      "1\n",
      "2\n",
      "3\n",
      "4\n",
      "5\n",
      "6\n",
      "7\n",
      "8\n",
      "9\n"
     ]
    }
   ],
   "source": [
    "for i in range(10):  # 0, n-1\n",
    "    print(i)"
   ]
  },
  {
   "cell_type": "code",
   "execution_count": 43,
   "id": "7722c2c0-cf5a-4960-8521-b866ecf9a028",
   "metadata": {},
   "outputs": [
    {
     "name": "stdout",
     "output_type": "stream",
     "text": [
      "4\n",
      "8\n",
      "12\n",
      "16\n",
      "20\n",
      "24\n",
      "28\n",
      "32\n",
      "36\n",
      "40\n"
     ]
    }
   ],
   "source": [
    "for i in range(4,41,4):  #range( beg, end, intervel)\n",
    "    print(i)"
   ]
  },
  {
   "cell_type": "code",
   "execution_count": 40,
   "id": "bdda1a84-e4d1-4167-ac9a-04364da7419d",
   "metadata": {},
   "outputs": [
    {
     "name": "stdout",
     "output_type": "stream",
     "text": [
      "10\n",
      "8\n",
      "6\n",
      "4\n",
      "2\n",
      "0\n"
     ]
    }
   ],
   "source": [
    "for i in range(10,-1,-2):  #range( beg, end, intervel)\n",
    "    print(i)"
   ]
  },
  {
   "cell_type": "code",
   "execution_count": null,
   "id": "ff91bc66-b467-42f0-9313-9755263585ca",
   "metadata": {},
   "outputs": [],
   "source": [
    "while conditions:\n",
    "    # your code\n",
    "    "
   ]
  },
  {
   "cell_type": "code",
   "execution_count": 27,
   "id": "75dac849-5ec3-4a51-91b8-f155c4a9e21b",
   "metadata": {},
   "outputs": [
    {
     "name": "stdout",
     "output_type": "stream",
     "text": [
      "100\n",
      "10\n"
     ]
    }
   ],
   "source": [
    "n=1000\n",
    "while n>10:\n",
    "    n=int(n/10)\n",
    "    print(n)\n",
    "    \n",
    "    \n"
   ]
  },
  {
   "cell_type": "code",
   "execution_count": null,
   "id": "171f7b15-c803-44af-a912-54685df970b9",
   "metadata": {},
   "outputs": [],
   "source": [
    "# continue, break, pass"
   ]
  },
  {
   "cell_type": "code",
   "execution_count": 29,
   "id": "ba830ad4-bef0-49f6-81d8-675d3cc11efc",
   "metadata": {},
   "outputs": [
    {
     "name": "stdout",
     "output_type": "stream",
     "text": [
      "0\n",
      "1\n",
      "2\n",
      "3\n",
      "4\n",
      "5\n",
      "6\n",
      "7\n",
      "8\n",
      "9\n",
      "10\n"
     ]
    }
   ],
   "source": [
    "for i in range(100):\n",
    "    print(i)\n",
    "    if i==10:\n",
    "        break\n",
    "    "
   ]
  },
  {
   "cell_type": "code",
   "execution_count": 32,
   "id": "b795b0d2-56b0-40b1-b891-f49527fcc2d6",
   "metadata": {},
   "outputs": [
    {
     "name": "stdout",
     "output_type": "stream",
     "text": [
      "0\n",
      "1\n",
      "2\n",
      "3\n",
      "4\n",
      "5\n",
      "6\n",
      "7\n",
      "8\n",
      "9\n",
      "11\n",
      "12\n",
      "13\n",
      "14\n"
     ]
    }
   ],
   "source": [
    "for i in range(15):\n",
    "    \n",
    "    if i==10:\n",
    "        continue\n",
    "    print(i)"
   ]
  },
  {
   "cell_type": "code",
   "execution_count": 34,
   "id": "9878f4da-735b-48d5-8e66-b70357b95eeb",
   "metadata": {},
   "outputs": [],
   "source": [
    "li=[]\n",
    "for i in range(15):\n",
    "    pass\n"
   ]
  },
  {
   "cell_type": "markdown",
   "id": "4c199543-5321-4076-9d70-3a2f402c1ca1",
   "metadata": {},
   "source": [
    "# Python List"
   ]
  },
  {
   "cell_type": "code",
   "execution_count": 45,
   "id": "1899bac9-6c83-4d11-b9f4-0c8df6d18124",
   "metadata": {},
   "outputs": [],
   "source": [
    "list1=[1,2,3,3,4,5,566,6,7,7,7]\n",
    "#0,1,2,3,4,5,6,7,8"
   ]
  },
  {
   "cell_type": "code",
   "execution_count": 49,
   "id": "319177f0-dca7-46b8-aed0-e0135c404b9a",
   "metadata": {},
   "outputs": [
    {
     "data": {
      "text/plain": [
       "[3, 3, 4]"
      ]
     },
     "execution_count": 49,
     "metadata": {},
     "output_type": "execute_result"
    }
   ],
   "source": [
    "list1[2:5]\n"
   ]
  },
  {
   "cell_type": "code",
   "execution_count": 50,
   "id": "3b947026-16fb-41ce-a3b0-377b3113a073",
   "metadata": {},
   "outputs": [
    {
     "data": {
      "text/plain": [
       "[7, 7, 7, 6, 566, 5, 4, 3, 3, 2, 1]"
      ]
     },
     "execution_count": 50,
     "metadata": {},
     "output_type": "execute_result"
    }
   ],
   "source": [
    "list1[::-1]"
   ]
  },
  {
   "cell_type": "code",
   "execution_count": 52,
   "id": "cf0a6817-a2f4-451f-8a13-67374032413d",
   "metadata": {},
   "outputs": [
    {
     "name": "stdout",
     "output_type": "stream",
     "text": [
      "1\n",
      "2\n",
      "3\n",
      "3\n",
      "4\n",
      "5\n",
      "566\n",
      "6\n",
      "7\n",
      "7\n",
      "7\n"
     ]
    }
   ],
   "source": [
    "for el in list1:\n",
    "    print(el)"
   ]
  },
  {
   "cell_type": "code",
   "execution_count": 55,
   "id": "948bdfb5-58a7-4cc8-acb2-8acd7d76308b",
   "metadata": {},
   "outputs": [
    {
     "name": "stdout",
     "output_type": "stream",
     "text": [
      "li_lenght 11\n",
      "1\n",
      "2\n",
      "3\n",
      "3\n",
      "4\n",
      "5\n",
      "566\n",
      "6\n",
      "7\n",
      "7\n",
      "7\n"
     ]
    }
   ],
   "source": [
    "li_lenght=len(list1)\n",
    "print(\"li_lenght\",li_lenght)\n",
    "for i in range(li_lenght):\n",
    "    print(list1[i])"
   ]
  },
  {
   "cell_type": "code",
   "execution_count": 59,
   "id": "dd212245-c83a-4536-9b64-aa25d05bf34e",
   "metadata": {},
   "outputs": [
    {
     "name": "stdout",
     "output_type": "stream",
     "text": [
      "33\n",
      "33\n",
      "4\n",
      "['bababoss', 3, 4, 5]\n",
      "[344, 554]\n"
     ]
    }
   ],
   "source": [
    "nlist=[36,33,4,[\"bababoss\",3,4,5,],[344,554]]\n",
    "nlist\n",
    "for el in nlist:\n",
    "    print(el)"
   ]
  },
  {
   "cell_type": "code",
   "execution_count": 61,
   "id": "dbba5a3f-01a6-477d-9f8c-66357449c34a",
   "metadata": {},
   "outputs": [
    {
     "data": {
      "text/plain": [
       "[33, 34234, 4, ['bababoss', 3, 4, 5], [344, 554]]"
      ]
     },
     "execution_count": 61,
     "metadata": {},
     "output_type": "execute_result"
    }
   ],
   "source": [
    "nlist[1]=34234\n",
    "nlist"
   ]
  },
  {
   "cell_type": "markdown",
   "id": "0dfb1469-0b59-4f45-9f7a-1b3b872035c3",
   "metadata": {},
   "source": [
    "# LIST comprahense"
   ]
  },
  {
   "cell_type": "code",
   "execution_count": 67,
   "id": "2eb24ad7-3d38-4121-a048-328ab4d000a3",
   "metadata": {},
   "outputs": [],
   "source": [
    "nlist=[1,2,23,3,4,4,5,5]\n"
   ]
  },
  {
   "cell_type": "markdown",
   "id": "e4ed29d3-52e5-4f86-aa54-aa9571c77ee9",
   "metadata": {},
   "source": [
    "### mul every list element by 2"
   ]
  },
  {
   "cell_type": "code",
   "execution_count": 69,
   "id": "56b9f872-1c0d-481d-a308-910bf2f9f7f0",
   "metadata": {},
   "outputs": [
    {
     "data": {
      "text/plain": [
       "[6, 12, 12]"
      ]
     },
     "execution_count": 69,
     "metadata": {},
     "output_type": "execute_result"
    }
   ],
   "source": [
    "nlist=[el*3 for el in nlist if el%2==0]\n",
    "nlist"
   ]
  },
  {
   "cell_type": "code",
   "execution_count": null,
   "id": "01204894-8ee3-478d-b160-567ff0281c59",
   "metadata": {},
   "outputs": [],
   "source": [
    "# EVEN Number "
   ]
  },
  {
   "cell_type": "code",
   "execution_count": 68,
   "id": "b0b6fdec-7038-4a5c-9d5f-1e4b88252dfb",
   "metadata": {},
   "outputs": [
    {
     "data": {
      "text/plain": [
       "[2, 4, 4]"
      ]
     },
     "execution_count": 68,
     "metadata": {},
     "output_type": "execute_result"
    }
   ],
   "source": [
    "[el for el in nlist  if el%2==0]"
   ]
  },
  {
   "cell_type": "code",
   "execution_count": 73,
   "id": "8d47fea8-e3d8-499c-a210-12a5569eb5d9",
   "metadata": {},
   "outputs": [],
   "source": [
    "l1=[1,2,2,2,2]\n",
    "l2=[3,3,3,3,5]\n",
    "\n",
    "l3=[ el1*el2 for el1 in l1 for el2 in l2]\n"
   ]
  },
  {
   "cell_type": "markdown",
   "id": "427f93fa-da87-4455-9f4a-022aa0afcc25",
   "metadata": {},
   "source": [
    "# lambda"
   ]
  },
  {
   "cell_type": "code",
   "execution_count": 89,
   "id": "cf6d1454-f33e-4710-a0a4-e9523ccbf361",
   "metadata": {},
   "outputs": [],
   "source": [
    "list2=[2,23,3,43,4]\n",
    "\n",
    "foo=lambda x : x+5\n",
    "\n"
   ]
  },
  {
   "cell_type": "code",
   "execution_count": 90,
   "id": "5ebb3371-7d3b-400f-89a2-7adca7e731bf",
   "metadata": {},
   "outputs": [
    {
     "data": {
      "text/plain": [
       "[7, 28, 8, 48, 9]"
      ]
     },
     "execution_count": 90,
     "metadata": {},
     "output_type": "execute_result"
    }
   ],
   "source": [
    "[foo(el) for el in list2]"
   ]
  },
  {
   "cell_type": "code",
   "execution_count": null,
   "id": "d1659f7d-711f-4ac5-b24a-a6ef734e58e2",
   "metadata": {},
   "outputs": [],
   "source": []
  },
  {
   "cell_type": "code",
   "execution_count": null,
   "id": "1d81fa57-c83e-46c9-999b-28a125a645df",
   "metadata": {},
   "outputs": [],
   "source": []
  },
  {
   "cell_type": "code",
   "execution_count": null,
   "id": "8487958d-2d0e-446e-a8ee-f671f702673c",
   "metadata": {},
   "outputs": [],
   "source": []
  },
  {
   "cell_type": "markdown",
   "id": "3629e6f9-b877-4567-8d84-f3eb02c5942a",
   "metadata": {},
   "source": [
    "# Python Tuple"
   ]
  },
  {
   "cell_type": "code",
   "execution_count": 92,
   "id": "94639ffa-cb93-40a4-a724-2c36f44eef15",
   "metadata": {},
   "outputs": [
    {
     "ename": "TypeError",
     "evalue": "'tuple' object does not support item assignment",
     "output_type": "error",
     "traceback": [
      "\u001b[0;31m---------------------------------------------------------------------------\u001b[0m",
      "\u001b[0;31mTypeError\u001b[0m                                 Traceback (most recent call last)",
      "Input \u001b[0;32mIn [92]\u001b[0m, in \u001b[0;36m<cell line: 2>\u001b[0;34m()\u001b[0m\n\u001b[1;32m      1\u001b[0m tup\u001b[38;5;241m=\u001b[39m(\u001b[38;5;241m2\u001b[39m,\u001b[38;5;241m3\u001b[39m,\u001b[38;5;241m4\u001b[39m,\u001b[38;5;241m4\u001b[39m)\n\u001b[0;32m----> 2\u001b[0m tup[\u001b[38;5;241m1\u001b[39m]\u001b[38;5;241m=\u001b[39m\u001b[38;5;241m34\u001b[39m\n",
      "\u001b[0;31mTypeError\u001b[0m: 'tuple' object does not support item assignment"
     ]
    }
   ],
   "source": [
    "tup=(2,3,4,4)\n",
    "tup[1]=34"
   ]
  },
  {
   "cell_type": "markdown",
   "id": "b160444d-a9f1-4b97-8724-5398d6cd0621",
   "metadata": {},
   "source": [
    "# Dict "
   ]
  },
  {
   "cell_type": "code",
   "execution_count": 96,
   "id": "b49d7118-338e-4372-bc0f-a0d239496e6b",
   "metadata": {},
   "outputs": [
    {
     "data": {
      "text/plain": [
       "{'k1': 'val1', 'k2': 'val2'}"
      ]
     },
     "execution_count": 96,
     "metadata": {},
     "output_type": "execute_result"
    }
   ],
   "source": [
    "dict1={\n",
    "\"k1\":\"val1\",\n",
    "    \"k2\":\"val2\"\n",
    "}\n",
    "dict1"
   ]
  },
  {
   "cell_type": "code",
   "execution_count": 99,
   "id": "95e3aaa3-2f7a-458d-8ef7-1e91023eeefa",
   "metadata": {},
   "outputs": [
    {
     "data": {
      "text/plain": [
       "{'k1': 'val1', 'k2': 'val2', 'k3': 'bababoss'}"
      ]
     },
     "execution_count": 99,
     "metadata": {},
     "output_type": "execute_result"
    }
   ],
   "source": [
    "dict1[\"k3\"]=\"bababoss\"\n",
    "dict1"
   ]
  },
  {
   "cell_type": "code",
   "execution_count": 101,
   "id": "367326de-179e-4791-945c-e7cb84780441",
   "metadata": {},
   "outputs": [
    {
     "data": {
      "text/plain": [
       "{'k1': 'mahesh', 'k2': 'val2', 'k3': 'bababoss'}"
      ]
     },
     "execution_count": 101,
     "metadata": {},
     "output_type": "execute_result"
    }
   ],
   "source": [
    "dict1[\"k1\"]=\"mahesh\"\n",
    "dict1"
   ]
  },
  {
   "cell_type": "code",
   "execution_count": 149,
   "id": "e836de2c-4ef6-4d72-b2e3-d030403705a4",
   "metadata": {},
   "outputs": [
    {
     "name": "stdout",
     "output_type": "stream",
     "text": [
      "333\n",
      "{'k11': 'val22'}\n"
     ]
    }
   ],
   "source": [
    "dict1={\n",
    "\"k1\":\"w\",\n",
    "    \"k1\":\"333\",\n",
    "    \"data\":{\n",
    "        \"k11\":\"val22\",\n",
    "    }\n",
    "}\n",
    "\n",
    "\n",
    "\n"
   ]
  },
  {
   "cell_type": "code",
   "execution_count": 121,
   "id": "28ed2443-fdf3-454a-a17a-c3141277dae6",
   "metadata": {},
   "outputs": [
    {
     "data": {
      "text/plain": [
       "dict"
      ]
     },
     "execution_count": 121,
     "metadata": {},
     "output_type": "execute_result"
    }
   ],
   "source": [
    "dict2={\n",
    "  3434:43\n",
    "\n",
    "}\n",
    "type(dict2)"
   ]
  },
  {
   "cell_type": "code",
   "execution_count": 125,
   "id": "603a1825-c2bb-4ea8-994a-c37756ee4d23",
   "metadata": {},
   "outputs": [
    {
     "data": {
      "text/plain": [
       "'{\"k1\": \"333\", \"data\": {\"k11\": \"val22\"}}'"
      ]
     },
     "execution_count": 125,
     "metadata": {},
     "output_type": "execute_result"
    }
   ],
   "source": [
    "import json\n",
    "\n",
    "jobj=json.dumps(dict1)\n",
    "type(dict1)\n",
    "jobj"
   ]
  },
  {
   "cell_type": "code",
   "execution_count": null,
   "id": "e616c913-fc94-40e1-85dd-89f42354b7f6",
   "metadata": {},
   "outputs": [],
   "source": []
  },
  {
   "cell_type": "markdown",
   "id": "5c96045e-0768-4aee-9535-f0c08b959473",
   "metadata": {},
   "source": [
    "# Functions"
   ]
  },
  {
   "cell_type": "code",
   "execution_count": 127,
   "id": "e1d83be4-04e0-4997-b8ed-62fda3656cb5",
   "metadata": {},
   "outputs": [
    {
     "name": "stdout",
     "output_type": "stream",
     "text": [
      "fnasjkf\n"
     ]
    }
   ],
   "source": [
    "def foo():\n",
    "    print(\"fnasjkf\")\n",
    "    \n",
    "foo()"
   ]
  },
  {
   "cell_type": "code",
   "execution_count": 130,
   "id": "09f5cbd3-065d-431f-91a1-dfcc23705292",
   "metadata": {},
   "outputs": [
    {
     "name": "stdout",
     "output_type": "stream",
     "text": [
      "add 7\n"
     ]
    },
    {
     "data": {
      "text/plain": [
       "7"
      ]
     },
     "execution_count": 130,
     "metadata": {},
     "output_type": "execute_result"
    }
   ],
   "source": [
    "def foo(a,b): # Formal Args\n",
    "    print(\"add\",a+b)\n",
    "    \n",
    "    return a+b\n",
    "    \n",
    "    \n",
    "foo(3,4)"
   ]
  },
  {
   "cell_type": "code",
   "execution_count": 133,
   "id": "747cdf8e-8881-4652-bb0c-4b2b430442b2",
   "metadata": {},
   "outputs": [
    {
     "name": "stdout",
     "output_type": "stream",
     "text": [
      "add mehash 7\n"
     ]
    },
    {
     "data": {
      "text/plain": [
       "7"
      ]
     },
     "execution_count": 133,
     "metadata": {},
     "output_type": "execute_result"
    }
   ],
   "source": [
    "def foo(a,b, name=\"bababoss\"): # Default Args\n",
    "    print(\"add \"+name,a+b)\n",
    "    \n",
    "    return a+b\n",
    "    \n",
    "    \n",
    "foo(3,4,name=\"mehash\")"
   ]
  },
  {
   "cell_type": "code",
   "execution_count": 138,
   "id": "5db3bb7a-9547-4911-b381-ac3b817e6ca7",
   "metadata": {},
   "outputs": [
    {
     "name": "stdout",
     "output_type": "stream",
     "text": [
      "(3, 4)\n"
     ]
    }
   ],
   "source": [
    "def foo(*args): # list of args \n",
    "    \n",
    "    print(args)\n",
    "    return \n",
    "    \n",
    "    \n",
    "foo(3,4)"
   ]
  },
  {
   "cell_type": "code",
   "execution_count": 141,
   "id": "a1048ae9-2f8e-4854-91f9-d3bd5af87c85",
   "metadata": {},
   "outputs": [
    {
     "name": "stdout",
     "output_type": "stream",
     "text": [
      "{'name': 'bababoss'}\n"
     ]
    }
   ],
   "source": [
    "def foo(**kwargs): # kewords  args \n",
    "    \n",
    "    print(kwargs)\n",
    "    return \n",
    "    \n",
    "    \n",
    "foo(name=\"bababoss\")"
   ]
  },
  {
   "cell_type": "code",
   "execution_count": null,
   "id": "bdc55160-60fd-4642-af84-586bc7482ecd",
   "metadata": {},
   "outputs": [],
   "source": []
  },
  {
   "cell_type": "markdown",
   "id": "11ec5579-c265-4659-94f3-47700b1090f3",
   "metadata": {},
   "source": [
    "# Classes"
   ]
  },
  {
   "cell_type": "code",
   "execution_count": 143,
   "id": "f4a55eb9-e0d9-439c-9a47-706b2352fd2b",
   "metadata": {},
   "outputs": [
    {
     "data": {
      "text/plain": [
       "4"
      ]
     },
     "execution_count": 143,
     "metadata": {},
     "output_type": "execute_result"
    }
   ],
   "source": [
    "class Node(object):\n",
    "    \n",
    "    def __init__ (self,item):\n",
    "        self.left=None\n",
    "        self.right=None\n",
    "        self.item=item\n",
    "        \n",
    "    def getItme(self):\n",
    "        return self.item\n",
    "    \n",
    "node= Node(4)\n",
    "\n",
    "node.getItme()"
   ]
  },
  {
   "cell_type": "code",
   "execution_count": 156,
   "id": "6a994b7f-ba33-432f-a331-d06b7f4f4f51",
   "metadata": {},
   "outputs": [
    {
     "name": "stdout",
     "output_type": "stream",
     "text": [
      "Hello, World!"
     ]
    }
   ],
   "source": [
    "\n",
    "!curl http://172.31.34.134:5000/home"
   ]
  },
  {
   "cell_type": "code",
   "execution_count": null,
   "id": "c1d15327-d436-4b5e-ae6e-54963585bd27",
   "metadata": {},
   "outputs": [],
   "source": []
  }
 ],
 "metadata": {
  "kernelspec": {
   "display_name": "anomalib_env",
   "language": "python",
   "name": "anomalib_env"
  },
  "language_info": {
   "codemirror_mode": {
    "name": "ipython",
    "version": 3
   },
   "file_extension": ".py",
   "mimetype": "text/x-python",
   "name": "python",
   "nbconvert_exporter": "python",
   "pygments_lexer": "ipython3",
   "version": "3.8.12"
  }
 },
 "nbformat": 4,
 "nbformat_minor": 5
}

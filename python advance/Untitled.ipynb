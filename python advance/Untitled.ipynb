{
 "cells": [
  {
   "cell_type": "code",
   "execution_count": 2,
   "metadata": {},
   "outputs": [
    {
     "name": "stdout",
     "output_type": "stream",
     "text": [
      "--is\n",
      "-===\n"
     ]
    }
   ],
   "source": [
    "a=5\n",
    "b=5\n",
    "if a is b:\n",
    "    print(\"--is\")\n",
    "if a==b:\n",
    "    print(\"-===\")"
   ]
  },
  {
   "cell_type": "code",
   "execution_count": 3,
   "metadata": {},
   "outputs": [
    {
     "data": {
      "text/plain": [
       "True"
      ]
     },
     "execution_count": 3,
     "metadata": {},
     "output_type": "execute_result"
    }
   ],
   "source": [
    "a is b"
   ]
  },
  {
   "cell_type": "code",
   "execution_count": 4,
   "metadata": {},
   "outputs": [
    {
     "data": {
      "text/plain": [
       "True"
      ]
     },
     "execution_count": 4,
     "metadata": {},
     "output_type": "execute_result"
    }
   ],
   "source": [
    "a==b"
   ]
  },
  {
   "cell_type": "markdown",
   "metadata": {},
   "source": [
    "# Yield vs Return\n",
    "> return sends a specified value back to its caller, whereas yield can produce a sequence of values. We should use yield when we want to iterate over a sequence but don't want to store the entire sequence in memory. yield is used in Python generators"
   ]
  },
  {
   "cell_type": "code",
   "execution_count": 22,
   "metadata": {},
   "outputs": [],
   "source": [
    "# mamory managment in python\n",
    "# Context manager \"with\"  keyword\n",
    "# GIL multiTHREDING \n",
    "# WHERE varibale hold data yype in interpreter  (How duck typing work)\n",
    "# yeild vs return\n",
    "# DOCKER vs VM\n",
    "# SUPER keyword\n",
    "# LEGB varibale rule[local,enclose, Globle , builtin]\n",
    "# MRO RULE     Methos resolution order \n",
    "# dump and dumpd\n",
    "# Load  vs loads\n",
    "# GENRATOER , DECORATOR\n",
    "# pickling and unpickling\n",
    "# Monkey patching\n",
    "# sello cpoy vs deep copy\n",
    "# enumator\n"
   ]
  },
  {
   "cell_type": "code",
   "execution_count": 6,
   "metadata": {},
   "outputs": [],
   "source": [
    "# FINF second last largest element\n",
    "li=[3,45,5,666,77,771]\n",
    "def swap():\n",
    "    return \n",
    "def sorting(li):\n",
    "    lenlist=len(li)\n",
    "    end=lenlist\n",
    "    for i in range(lenlist):\n",
    "        for j in range(i+1,end):\n",
    "            if li[i]<li[j]:\n",
    "                swap()\n",
    "                \n",
    "        "
   ]
  },
  {
   "cell_type": "code",
   "execution_count": 16,
   "metadata": {},
   "outputs": [
    {
     "data": {
      "text/plain": [
       "['b', 'a', 'n', 'g', 'a', 'l', 'o', 'e', 'r']"
      ]
     },
     "execution_count": 16,
     "metadata": {},
     "output_type": "execute_result"
    }
   ],
   "source": [
    "st=\"bangaloer\"\n",
    "st1=[i for i in st]\n",
    "st1"
   ]
  },
  {
   "cell_type": "code",
   "execution_count": 19,
   "metadata": {},
   "outputs": [
    {
     "data": {
      "text/plain": [
       "'bangaloer'"
      ]
     },
     "execution_count": 19,
     "metadata": {},
     "output_type": "execute_result"
    }
   ],
   "source": [
    "''.join(st.split())\n"
   ]
  },
  {
   "cell_type": "code",
   "execution_count": 20,
   "metadata": {},
   "outputs": [
    {
     "data": {
      "text/plain": [
       "['bangaloer']"
      ]
     },
     "execution_count": 20,
     "metadata": {},
     "output_type": "execute_result"
    }
   ],
   "source": [
    "st.split()"
   ]
  },
  {
   "cell_type": "code",
   "execution_count": null,
   "metadata": {},
   "outputs": [],
   "source": [
    "Round 1:\n",
    "1. given a binary tree, print the preorder traversal in recursive and iterative way\n",
    "2. Reverse words in a given string\n",
    "3. people are standing in a queue when viewed from the front, m heads are visible, and n heads from the end. \n",
    "#Find the number of possible arrangements such that m&n remains same when viewed from front and end respectively."
   ]
  }
 ],
 "metadata": {
  "kernelspec": {
   "display_name": "conda_pytorch_latest_p36",
   "language": "python",
   "name": "conda_pytorch_latest_p36"
  },
  "language_info": {
   "codemirror_mode": {
    "name": "ipython",
    "version": 3
   },
   "file_extension": ".py",
   "mimetype": "text/x-python",
   "name": "python",
   "nbconvert_exporter": "python",
   "pygments_lexer": "ipython3",
   "version": "3.6.10"
  }
 },
 "nbformat": 4,
 "nbformat_minor": 4
}

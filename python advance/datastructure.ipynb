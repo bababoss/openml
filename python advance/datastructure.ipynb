{
 "cells": [
  {
   "cell_type": "markdown",
   "metadata": {},
   "source": [
    "# Binary Tree "
   ]
  },
  {
   "cell_type": "code",
   "execution_count": null,
   "metadata": {},
   "outputs": [],
   "source": [
    "class Btree():\n",
    "    \n",
    "    def __init__(self,item):\n",
    "        self.left=None\n",
    "        self.right=None\n",
    "        self.data=item\n",
    "        \n",
    "    def setData(self,data):\n",
    "        self.data=data\n",
    "    def getLeft():\n",
    "        return self.left\n",
    "    def getRight():\n",
    "        return self.right\n",
    "    \n",
    "    \n",
    "def preorderTravers(root,result):\n",
    "    if not root:\n",
    "        return\n",
    "    result.append(root.data)\n",
    "    preorderTravers(root.left,result)\n",
    "    preorderTravers(root.right,result)\n",
    "    \n",
    "def inorderTravers(root,result):\n",
    "    if not root:\n",
    "        return\n",
    "    \n",
    "    preorderTravers(root.left,result)\n",
    "    result.append(root.data)\n",
    "    preorderTravers(root.right,result)\n",
    "    \n",
    "def postorderTravers(root,result):\n",
    "    if not root:\n",
    "        return\n",
    "    \n",
    "    preorderTravers(root.left,result)\n",
    "    preorderTravers(root.right,result)\n",
    "    result.append(root.data)"
   ]
  },
  {
   "cell_type": "code",
   "execution_count": 24,
   "metadata": {},
   "outputs": [],
   "source": [
    "root=Btree(33)\n",
    "root.left=Btree(32)\n",
    "root.right=Btree(14)\n",
    "root.left.left=Btree(24)\n",
    "root.left.right=Btree(31)\n",
    "result=[]\n",
    "preorderTravers(root,result)"
   ]
  },
  {
   "cell_type": "code",
   "execution_count": 23,
   "metadata": {},
   "outputs": [
    {
     "data": {
      "text/plain": [
       "[33, 32, 24, 31, 14]"
      ]
     },
     "execution_count": 23,
     "metadata": {},
     "output_type": "execute_result"
    }
   ],
   "source": [
    "result"
   ]
  },
  {
   "cell_type": "code",
   "execution_count": 31,
   "metadata": {},
   "outputs": [
    {
     "data": {
      "text/plain": [
       "[32, 24, 31, 33, 14]"
      ]
     },
     "execution_count": 31,
     "metadata": {},
     "output_type": "execute_result"
    }
   ],
   "source": [
    "result1=[]\n",
    "inorderTravers(root,result1)\n",
    "result1"
   ]
  },
  {
   "cell_type": "code",
   "execution_count": 30,
   "metadata": {},
   "outputs": [
    {
     "data": {
      "text/plain": [
       "[32, 24, 31, 14, 33]"
      ]
     },
     "execution_count": 30,
     "metadata": {},
     "output_type": "execute_result"
    }
   ],
   "source": [
    "result2=[]\n",
    "postorderTravers(root,result2)\n",
    "result2"
   ]
  },
  {
   "cell_type": "markdown",
   "metadata": {},
   "source": [
    "# Stack"
   ]
  },
  {
   "cell_type": "code",
   "execution_count": 56,
   "metadata": {},
   "outputs": [
    {
     "name": "stdout",
     "output_type": "stream",
     "text": [
      "Stack overflow \n"
     ]
    },
    {
     "data": {
      "text/plain": [
       "225"
      ]
     },
     "execution_count": 56,
     "metadata": {},
     "output_type": "execute_result"
    }
   ],
   "source": [
    "class Stack():\n",
    "    def __init__(self,limit):\n",
    "        self.stk=[]\n",
    "        self.limit=limit\n",
    "\n",
    "        \n",
    "    def push(self,data):\n",
    "        if len(self.stk)>=self.limit:\n",
    "            print(\"Stack overflow \")\n",
    "            self.resize() \n",
    "        self.stk.append(data)\n",
    "    \n",
    "    def pop(self):\n",
    "        if len(self.stk)<=0:\n",
    "            print(\"Stack underflow\")\n",
    "            return\n",
    "        return self.stk.pop()\n",
    "    def peek(self):\n",
    "        return self.stk[-1]\n",
    "    \n",
    "    def resize(self):\n",
    "        newStk=list(self.stk)\n",
    "        self.limit=2*self.limit\n",
    "        self.stk=newStk\n",
    "st=Stack(10)\n",
    "st.push(22)\n",
    "st.push(22)\n",
    "st.push(22)\n",
    "st.push(22)\n",
    "st.push(23)\n",
    "st.push(24)\n",
    "st.push(252)\n",
    "st.push(22)\n",
    "st.push(22)\n",
    "st.push(22)\n",
    "st.push(22)\n",
    "st.push(22)  \n",
    "st.push(225)\n",
    "\n",
    "st.stk\n",
    "st.pop()"
   ]
  },
  {
   "cell_type": "markdown",
   "metadata": {},
   "source": [
    "# Queue"
   ]
  },
  {
   "cell_type": "code",
   "execution_count": 66,
   "metadata": {},
   "outputs": [
    {
     "data": {
      "text/plain": [
       "['frist']"
      ]
     },
     "execution_count": 66,
     "metadata": {},
     "output_type": "execute_result"
    }
   ],
   "source": [
    "class Queue():\n",
    "    \n",
    "    def __init__(self,limit=5):\n",
    "        self.que=[]\n",
    "        self.limit=limit\n",
    "        self.front=None\n",
    "        self.rear=None\n",
    "        self.size=0\n",
    "    def enQueue(self,item):\n",
    "        if self.size>=self.limit:\n",
    "            print(\"Queue overflow\")\n",
    "        else:\n",
    "            self.que.append(item)\n",
    "            \n",
    "        if self.front is None:\n",
    "            self.front=self.rear=0\n",
    "        else:\n",
    "            self.rear=self.size\n",
    "        self.size+=1\n",
    "        \n",
    "    def deQueue(self):\n",
    "        if self.size<=0:\n",
    "            print(\"Queue overflow\")\n",
    "        else:\n",
    "            self.que.pop(0)\n",
    "            self.size-=1\n",
    "            if self.size==0:\n",
    "                self.front=self.rear=None\n",
    "            else:\n",
    "                self.rear=self.size-1\n",
    "                \n",
    "    def queueRear(self):\n",
    "        if self.rear is None:\n",
    "            print(\"Queue is Empty\")\n",
    "            raise IndexError\n",
    "        return self.que[self.rear]\n",
    "    \n",
    "    def queueFront(self):\n",
    "        if self.rear is None:\n",
    "            print(\"Queue is Empty\")\n",
    "            raise IndexError\n",
    "        return self.que[self.front]\n",
    "    \n",
    "    def size(self):\n",
    "        return self.size\n",
    "        \n",
    "        \n",
    "queue=Queue()\n",
    "queue.enQueue(\"frist\")\n",
    "queue.que"
   ]
  },
  {
   "cell_type": "code",
   "execution_count": null,
   "metadata": {},
   "outputs": [],
   "source": []
  }
 ],
 "metadata": {
  "kernelspec": {
   "display_name": "conda_pytorch_latest_p36",
   "language": "python",
   "name": "conda_pytorch_latest_p36"
  },
  "language_info": {
   "codemirror_mode": {
    "name": "ipython",
    "version": 3
   },
   "file_extension": ".py",
   "mimetype": "text/x-python",
   "name": "python",
   "nbconvert_exporter": "python",
   "pygments_lexer": "ipython3",
   "version": "3.6.10"
  }
 },
 "nbformat": 4,
 "nbformat_minor": 4
}

{
 "cells": [
  {
   "cell_type": "code",
   "execution_count": null,
   "id": "7b636dcd-ef3b-45af-b7e7-68aafeaf4d83",
   "metadata": {},
   "outputs": [],
   "source": []
  },
  {
   "cell_type": "code",
   "execution_count": null,
   "id": "5391b53e-5ee5-4917-9e3a-abc3579e434a",
   "metadata": {},
   "outputs": [],
   "source": [
    "\n"
   ]
  },
  {
   "cell_type": "code",
   "execution_count": 2,
   "id": "651ff415-5689-48d6-974b-60552c96970b",
   "metadata": {},
   "outputs": [],
   "source": [
    "# Find largest word in dictionary\n"
   ]
  },
  {
   "cell_type": "code",
   "execution_count": 3,
   "id": "fa9b3ca3-3a9f-40f6-97e4-d24c778d9d8a",
   "metadata": {},
   "outputs": [],
   "source": [
    "# Find and replace in String"
   ]
  },
  {
   "cell_type": "code",
   "execution_count": 4,
   "id": "09a76c35-040f-4593-8b96-b56196c4da6f",
   "metadata": {},
   "outputs": [],
   "source": [
    "# Sum of two large numbers"
   ]
  },
  {
   "cell_type": "markdown",
   "id": "bcac8fad-90b7-495f-80eb-37137d87296b",
   "metadata": {},
   "source": [
    "# Multiply two strings"
   ]
  },
  {
   "cell_type": "code",
   "execution_count": 27,
   "id": "df9777f9-74ac-48a3-9a5b-979ae7e0b4f8",
   "metadata": {},
   "outputs": [],
   "source": [
    "a=\"32323\"\n",
    "b=\"23423\"\n"
   ]
  },
  {
   "cell_type": "code",
   "execution_count": 6,
   "id": "19c8ae22-b143-4936-91d1-b1955ab2eba6",
   "metadata": {},
   "outputs": [],
   "source": [
    "# Look and say Pattern"
   ]
  },
  {
   "cell_type": "code",
   "execution_count": 7,
   "id": "21fa04a4-18db-4ba3-8caf-1bc75a8bc566",
   "metadata": {},
   "outputs": [],
   "source": [
    "# Minimum times A has to be repeated to make B a Substring"
   ]
  },
  {
   "cell_type": "markdown",
   "id": "31d9665c-5446-44f8-8d8a-0e139c703fce",
   "metadata": {},
   "source": [
    "# Form a Palindrome"
   ]
  },
  {
   "cell_type": "code",
   "execution_count": 16,
   "id": "56b043cd-b208-4885-968c-71054a684c8f",
   "metadata": {},
   "outputs": [
    {
     "name": "stdout",
     "output_type": "stream",
     "text": [
      "121\n",
      "12\n",
      "1\n"
     ]
    },
    {
     "data": {
      "text/plain": [
       "121"
      ]
     },
     "execution_count": 16,
     "metadata": {},
     "output_type": "execute_result"
    }
   ],
   "source": [
    "n=121\n",
    "v=0\n",
    "while n:\n",
    "    print(n)\n",
    "    r=n%10\n",
    "    v=v*10+r\n",
    "    n=int(n/10)\n",
    "    \n"
   ]
  },
  {
   "cell_type": "code",
   "execution_count": 23,
   "id": "52b7cf7c-5485-4cea-b4b4-b00c318358d7",
   "metadata": {},
   "outputs": [
    {
     "name": "stdout",
     "output_type": "stream",
     "text": [
      "S in Palindromic\n"
     ]
    }
   ],
   "source": [
    "s=\"aaddaa\"\n",
    "def rev(s):\n",
    "    if len(s)==0:\n",
    "        return s\n",
    "    return s[-1]+rev(s[:-1])\n",
    "rev(s)\n",
    "if s==rev(s):\n",
    "    print(\"S in Palindromic\")"
   ]
  },
  {
   "cell_type": "code",
   "execution_count": 10,
   "id": "2d528be8-5d62-4856-acfd-c5348b2ae6e5",
   "metadata": {},
   "outputs": [],
   "source": [
    "#Longest Palindromic Subsequence"
   ]
  },
  {
   "cell_type": "code",
   "execution_count": 11,
   "id": "b67da2f4-f96a-4c5e-bb66-ef7e290cee9f",
   "metadata": {},
   "outputs": [],
   "source": [
    "#Count number of substrings"
   ]
  },
  {
   "cell_type": "code",
   "execution_count": null,
   "id": "d3a8ce92-882c-4205-98f3-515ed9e6db7c",
   "metadata": {},
   "outputs": [],
   "source": []
  }
 ],
 "metadata": {
  "kernelspec": {
   "display_name": "anomalib_env",
   "language": "python",
   "name": "anomalib_env"
  },
  "language_info": {
   "codemirror_mode": {
    "name": "ipython",
    "version": 3
   },
   "file_extension": ".py",
   "mimetype": "text/x-python",
   "name": "python",
   "nbconvert_exporter": "python",
   "pygments_lexer": "ipython3",
   "version": "3.8.12"
  }
 },
 "nbformat": 4,
 "nbformat_minor": 5
}

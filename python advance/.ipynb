{
 "cells": [
  {
   "cell_type": "code",
   "execution_count": null,
   "id": "47a807df-7adc-4766-8e0f-25e61c72ea5d",
   "metadata": {},
   "outputs": [],
   "source": []
  },
  {
   "cell_type": "markdown",
   "id": "b6694f12-e0e8-44e5-9efb-e81b498e22ab",
   "metadata": {},
   "source": [
    "# Dict Question"
   ]
  },
  {
   "cell_type": "code",
   "execution_count": 17,
   "id": "38f3c099-cab4-4704-b10e-fd9e0f9a4cb2",
   "metadata": {},
   "outputs": [],
   "source": [
    "dictd={-1:-1,\n",
    "       -1:3,\n",
    "       -1:5\n",
    "\n",
    "}"
   ]
  },
  {
   "cell_type": "code",
   "execution_count": 18,
   "id": "824543e6-ef22-4759-a571-ee6a8909a875",
   "metadata": {},
   "outputs": [
    {
     "data": {
      "text/plain": [
       "{-1: 5}"
      ]
     },
     "execution_count": 18,
     "metadata": {},
     "output_type": "execute_result"
    }
   ],
   "source": [
    "dictd"
   ]
  },
  {
   "cell_type": "markdown",
   "id": "6bcd8066-8282-418d-97d3-672f6f0ffdbd",
   "metadata": {},
   "source": [
    "# List Question:"
   ]
  },
  {
   "cell_type": "code",
   "execution_count": 28,
   "id": "40681fe8-60df-42bb-a779-2c4293ffa8c7",
   "metadata": {},
   "outputs": [
    {
     "data": {
      "text/plain": [
       "9"
      ]
     },
     "execution_count": 28,
     "metadata": {},
     "output_type": "execute_result"
    }
   ],
   "source": [
    "l=[1,2,1,1,1,1,1,1,1,1,0,0,0,0,0,9]\n",
    "len([i for i in l if i==1])"
   ]
  },
  {
   "cell_type": "code",
   "execution_count": 32,
   "id": "f6ca7727-e6e1-4810-b9ab-1a2766f76e9f",
   "metadata": {},
   "outputs": [
    {
     "data": {
      "text/plain": [
       "[2, 1, 1, 1, 1, 1, 1, 1, 1, 0, 0, 0, 0, 0]"
      ]
     },
     "execution_count": 32,
     "metadata": {},
     "output_type": "execute_result"
    }
   ],
   "source": [
    "l[1:-1]"
   ]
  },
  {
   "cell_type": "code",
   "execution_count": null,
   "id": "97a48857-855f-42ee-b32a-f079eaf2512c",
   "metadata": {},
   "outputs": [],
   "source": []
  }
 ],
 "metadata": {
  "kernelspec": {
   "display_name": "anomalib_env",
   "language": "python",
   "name": "anomalib_env"
  },
  "language_info": {
   "codemirror_mode": {
    "name": "ipython",
    "version": 3
   },
   "file_extension": ".py",
   "mimetype": "text/x-python",
   "name": "python",
   "nbconvert_exporter": "python",
   "pygments_lexer": "ipython3",
   "version": "3.8.12"
  }
 },
 "nbformat": 4,
 "nbformat_minor": 5
}

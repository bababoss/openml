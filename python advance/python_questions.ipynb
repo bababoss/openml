{
 "cells": [
  {
   "cell_type": "markdown",
   "metadata": {},
   "source": [
    "# Count letter in string "
   ]
  },
  {
   "cell_type": "code",
   "execution_count": 4,
   "metadata": {},
   "outputs": [],
   "source": [
    "st=\"bbngaloeerabrz\""
   ]
  },
  {
   "cell_type": "code",
   "execution_count": 5,
   "metadata": {
    "jupyter": {
     "source_hidden": true
    },
    "tags": []
   },
   "outputs": [
    {
     "data": {
      "text/plain": [
       "{'b': 3, 'n': 1, 'g': 1, 'a': 2, 'l': 1, 'o': 1, 'e': 2, 'r': 2, 'z': 1}"
      ]
     },
     "execution_count": 5,
     "metadata": {},
     "output_type": "execute_result"
    }
   ],
   "source": [
    "dictf={}\n",
    "for c in st:\n",
    "    if c in dictf:\n",
    "        dictf[c]=dictf[c]+1\n",
    "    else:\n",
    "        dictf[c]=1\n",
    "dictf"
   ]
  },
  {
   "cell_type": "code",
   "execution_count": 6,
   "metadata": {
    "jupyter": {
     "source_hidden": true
    },
    "tags": []
   },
   "outputs": [
    {
     "data": {
      "text/plain": [
       "{'b': 3, 'n': 1, 'g': 1, 'a': 2, 'l': 1, 'o': 1, 'e': 2, 'r': 2, 'z': 1}"
      ]
     },
     "execution_count": 6,
     "metadata": {},
     "output_type": "execute_result"
    }
   ],
   "source": [
    "c_dict={}\n",
    "for c in st:\n",
    "    if c in c_dict:\n",
    "        c_dict[c]= c_dict[c]+1\n",
    "    else:\n",
    "        c_dict[c]=1\n",
    "c_dict"
   ]
  },
  {
   "cell_type": "code",
   "execution_count": null,
   "metadata": {},
   "outputs": [],
   "source": []
  },
  {
   "cell_type": "markdown",
   "metadata": {},
   "source": [
    "# REV a stirng"
   ]
  },
  {
   "cell_type": "code",
   "execution_count": 40,
   "metadata": {
    "jupyter": {
     "source_hidden": true
    },
    "tags": []
   },
   "outputs": [
    {
     "name": "stdout",
     "output_type": "stream",
     "text": [
      "9\n",
      "3 4\n",
      "2 5\n",
      "1 6\n",
      "0 7\n"
     ]
    },
    {
     "data": {
      "text/plain": [
       "['r', 'o', 'l', 'a', 'g', 'n', 'a', 'b', 'e', 'b']"
      ]
     },
     "execution_count": 40,
     "metadata": {},
     "output_type": "execute_result"
    }
   ],
   "source": [
    "ostring=\"bangalore\"\n",
    "string=list(ostring)\n",
    "strlen=len(string)\n",
    "print(strlen)\n",
    "\n",
    "mid=int(strlen/2)\n",
    "for c in range(mid):\n",
    "    tmp=string[mid-c-1]\n",
    "    print(mid-c-1,mid+c)\n",
    "    string[mid-c-1]= string[mid+c]\n",
    "    string[mid+c]=tmp\n",
    "if  strlen%2!=0:\n",
    "    string.append(ostring[0])\n",
    "string"
   ]
  },
  {
   "cell_type": "code",
   "execution_count": 22,
   "metadata": {
    "tags": []
   },
   "outputs": [
    {
     "data": {
      "text/plain": [
       "'hserus'"
      ]
     },
     "execution_count": 22,
     "metadata": {},
     "output_type": "execute_result"
    }
   ],
   "source": [
    "st=\"suresh\"\n",
    "rev=\"\"\n",
    "for i in range(len(st)-1,-1,-1):\n",
    "    rev=rev+st[i]\n",
    "\n",
    "rev"
   ]
  },
  {
   "cell_type": "code",
   "execution_count": 21,
   "metadata": {
    "tags": []
   },
   "outputs": [
    {
     "data": {
      "text/plain": [
       "'hserus'"
      ]
     },
     "execution_count": 21,
     "metadata": {},
     "output_type": "execute_result"
    }
   ],
   "source": [
    "def revs(st):\n",
    "    if len(st)==0:\n",
    "        return st\n",
    "    return st[-1]+revs(st[:-1])\n",
    "revs(st)"
   ]
  },
  {
   "cell_type": "code",
   "execution_count": 245,
   "metadata": {
    "tags": []
   },
   "outputs": [
    {
     "data": {
      "text/plain": [
       "'gnirtso'"
      ]
     },
     "execution_count": 245,
     "metadata": {},
     "output_type": "execute_result"
    }
   ],
   "source": [
    "def revd(st):\n",
    "    if len(st) == 0:\n",
    "        return  st\n",
    "    else:\n",
    "        return revd(st[1:])+st[0]\n",
    "revd(\"ostring\")\n"
   ]
  },
  {
   "cell_type": "markdown",
   "metadata": {},
   "source": [
    "# PRIME NUMBER:"
   ]
  },
  {
   "cell_type": "code",
   "execution_count": 35,
   "metadata": {
    "tags": []
   },
   "outputs": [
    {
     "name": "stdout",
     "output_type": "stream",
     "text": [
      "5 25\n",
      "11 26\n",
      "17 27\n",
      "23 28\n",
      "29 29\n",
      "35 30\n",
      "41 31\n",
      "47 32\n",
      "53 33\n",
      "59 34\n",
      "65 35\n",
      "71 36\n",
      "77 37\n",
      "83 38\n",
      "89 39\n",
      "95 40\n",
      "101 41\n",
      "107 42\n",
      "113 43\n",
      "119 44\n",
      "125 45\n"
     ]
    },
    {
     "data": {
      "text/plain": [
       "False"
      ]
     },
     "execution_count": 35,
     "metadata": {},
     "output_type": "execute_result"
    }
   ],
   "source": [
    "def prime(n):\n",
    "    if n==2 or n==3:\n",
    "        return  True\n",
    "    if n%2==0 or n%3==0:\n",
    "        return False\n",
    "    i=5\n",
    "    for j  in  range(i*i,n):\n",
    "        print(i,j)\n",
    "        if n%j==0 or n%(j+2)==0:\n",
    "            return False\n",
    "        i=i+6\n",
    "    return True\n",
    "prime(47)"
   ]
  },
  {
   "cell_type": "code",
   "execution_count": null,
   "metadata": {},
   "outputs": [],
   "source": []
  },
  {
   "cell_type": "code",
   "execution_count": 162,
   "metadata": {
    "tags": []
   },
   "outputs": [],
   "source": [
    "n=143\n",
    "def is_prime(n):\n",
    "    if n==2:\n",
    "        return n\n",
    "    if n%2==0  :\n",
    "        return False\n",
    "    for i in range(3,int(n/2),2):\n",
    "        if n%i==0:\n",
    "            return False\n",
    "    return n\n",
    "p=[]\n",
    "for i in range(2,100):\n",
    "    it=is_prime(i)\n",
    "    if it:\n",
    "        p.append(it)"
   ]
  },
  {
   "cell_type": "code",
   "execution_count": 165,
   "metadata": {},
   "outputs": [
    {
     "data": {
      "text/plain": [
       "25"
      ]
     },
     "execution_count": 165,
     "metadata": {},
     "output_type": "execute_result"
    }
   ],
   "source": [
    "len(p)"
   ]
  },
  {
   "cell_type": "code",
   "execution_count": null,
   "metadata": {},
   "outputs": [],
   "source": []
  },
  {
   "cell_type": "code",
   "execution_count": null,
   "metadata": {},
   "outputs": [],
   "source": []
  },
  {
   "cell_type": "code",
   "execution_count": null,
   "metadata": {},
   "outputs": [],
   "source": [
    "\n"
   ]
  },
  {
   "cell_type": "code",
   "execution_count": null,
   "metadata": {},
   "outputs": [],
   "source": []
  },
  {
   "cell_type": "markdown",
   "metadata": {},
   "source": [
    "# Daimond Print"
   ]
  },
  {
   "cell_type": "code",
   "execution_count": 219,
   "metadata": {
    "tags": []
   },
   "outputs": [
    {
     "name": "stdout",
     "output_type": "stream",
     "text": [
      "---------*\n",
      "--------***\n",
      "-------*****\n",
      "------*******\n",
      "-----*********\n",
      "----***********\n",
      "---*************\n",
      "--***************\n",
      "-*****************\n",
      "*******************\n",
      "*******************\n",
      "-*****************\n",
      "--***************\n",
      "---*************\n",
      "----***********\n",
      "-----*********\n",
      "------*******\n",
      "-------*****\n",
      "--------***\n",
      "---------*\n"
     ]
    }
   ],
   "source": [
    "for  l in range(0,n):\n",
    "    for i in range(0,n-l-1):\n",
    "        print(\"-\",end='')\n",
    "    for i in range(0,2*l+1):\n",
    "        print(\"*\",end='')\n",
    "    print()\n",
    "for  l in range(0,n):\n",
    "    for i in range(0,l):\n",
    "        print(\"-\",end='')\n",
    "    for i in range(0,2*(n-l)-1):\n",
    "        print(\"*\",end='')\n",
    "    print()\n",
    "\n",
    "        \n",
    "        "
   ]
  },
  {
   "cell_type": "code",
   "execution_count": 203,
   "metadata": {
    "tags": []
   },
   "outputs": [
    {
     "name": "stdout",
     "output_type": "stream",
     "text": [
      "----*\n",
      "\n",
      "---***\n",
      "\n",
      "--*****\n",
      "\n",
      "-*******\n",
      "\n",
      "*********\n",
      "\n",
      "*********\n",
      "\n",
      "-*******\n",
      "\n",
      "--*****\n",
      "\n",
      "---***\n",
      "\n",
      "----*\n",
      "\n"
     ]
    }
   ],
   "source": [
    "n=5\n",
    "for i in range(n):\n",
    "    for j in range(n-1-i):\n",
    "        print(\"-\",end='')\n",
    "    for j in range(2*i+1):\n",
    "        print(\"*\",end='')\n",
    "    print('\\n')\n",
    "    \n",
    "for i in range(n):\n",
    "    for j in range(i):\n",
    "        print(\"-\",end='')\n",
    "    for j in range(2*(n-i)-1):\n",
    "        print(\"*\",end='')\n",
    "    print('\\n')"
   ]
  },
  {
   "cell_type": "markdown",
   "metadata": {},
   "source": [
    "# SWAP"
   ]
  },
  {
   "cell_type": "code",
   "execution_count": 205,
   "metadata": {},
   "outputs": [
    {
     "data": {
      "text/plain": [
       "(11, 7)"
      ]
     },
     "execution_count": 205,
     "metadata": {},
     "output_type": "execute_result"
    }
   ],
   "source": [
    "a=7\n",
    "b=11\n",
    "\n",
    "a=a+b   #a=18\n",
    "b=a-b   #b=7\n",
    "a=a-b   #a=11\n",
    "\n",
    "a,b"
   ]
  },
  {
   "cell_type": "code",
   "execution_count": 120,
   "metadata": {
    "jupyter": {
     "source_hidden": true
    },
    "tags": []
   },
   "outputs": [
    {
     "data": {
      "text/plain": [
       "(5, 10)"
      ]
     },
     "execution_count": 120,
     "metadata": {},
     "output_type": "execute_result"
    }
   ],
   "source": [
    "x = 10\n",
    "y = 5\n",
    "  \n",
    "# Code to swap 'x' and 'y' \n",
    "x = x ^ y; # x now becomes 15 (1111) \n",
    "y = x ^ y; # y becomes 10 (1010) \n",
    "x = x ^ y; # x becomes 5 (0101) \n",
    "x,y"
   ]
  },
  {
   "cell_type": "markdown",
   "metadata": {},
   "source": [
    "# BITWISE Right  SHIFT DEVIDE  2n"
   ]
  },
  {
   "cell_type": "code",
   "execution_count": 208,
   "metadata": {},
   "outputs": [
    {
     "data": {
      "text/plain": [
       "16"
      ]
     },
     "execution_count": 208,
     "metadata": {},
     "output_type": "execute_result"
    }
   ],
   "source": [
    "a=32\n",
    "b=a>>1 #32/2\n",
    "# b>>1  # 16/2\n",
    "b"
   ]
  },
  {
   "cell_type": "markdown",
   "metadata": {},
   "source": [
    "# BITWISE LEFT SHIFT MULTPLICATIOOMN 2n"
   ]
  },
  {
   "cell_type": "code",
   "execution_count": 113,
   "metadata": {},
   "outputs": [
    {
     "data": {
      "text/plain": [
       "240"
      ]
     },
     "execution_count": 113,
     "metadata": {},
     "output_type": "execute_result"
    }
   ],
   "source": [
    "a=30\n",
    "b=a<<1  # 30*2\n",
    "b<<2  # 60*2"
   ]
  },
  {
   "cell_type": "markdown",
   "metadata": {},
   "source": [
    "# A Generator for Fibonacci Numbers."
   ]
  },
  {
   "cell_type": "code",
   "execution_count": 214,
   "metadata": {
    "tags": []
   },
   "outputs": [
    {
     "name": "stdout",
     "output_type": "stream",
     "text": [
      "0\n",
      "1\n",
      "1\n",
      "2\n",
      "3\n",
      "5\n",
      "8\n",
      "13\n",
      "21\n"
     ]
    }
   ],
   "source": [
    "def genfibonacci(limit):\n",
    "    a,b=0,1\n",
    "    while(a<limit):\n",
    "        yield a\n",
    "        a,b=b,a+b\n",
    "        \n",
    "        \n",
    "fib=genfibonacci(30)\n",
    "for i in range(9):\n",
    "    print(fib.__next__())"
   ]
  },
  {
   "cell_type": "code",
   "execution_count": 213,
   "metadata": {},
   "outputs": [
    {
     "data": {
      "text/plain": [
       "[0, 1, 1, 2, 3, 5, 8, 13, 21, 34]"
      ]
     },
     "execution_count": 213,
     "metadata": {},
     "output_type": "execute_result"
    }
   ],
   "source": [
    "n=10\n",
    "fib=[0,1]\n",
    "for i in range(n-2):\n",
    "    fib.append(fib[-1]+fib[-2])\n",
    "fib"
   ]
  },
  {
   "cell_type": "markdown",
   "metadata": {},
   "source": [
    "# Revers word in given string"
   ]
  },
  {
   "cell_type": "code",
   "execution_count": 184,
   "metadata": {},
   "outputs": [
    {
     "data": {
      "text/plain": [
       "'string given in word Revers'"
      ]
     },
     "execution_count": 184,
     "metadata": {},
     "output_type": "execute_result"
    }
   ],
   "source": [
    "string=\"Revers word in given string\"\n",
    "' '.join(string.split(' ')[::-1])\n"
   ]
  },
  {
   "cell_type": "markdown",
   "metadata": {},
   "source": [
    "# Decorators"
   ]
  },
  {
   "cell_type": "code",
   "execution_count": 214,
   "metadata": {},
   "outputs": [
    {
     "name": "stdout",
     "output_type": "stream",
     "text": [
      "INNER Function ----\n",
      "   add function ---  48\n",
      " FUN Time:  0.0002770423889160156\n"
     ]
    },
    {
     "data": {
      "text/plain": [
       "48"
      ]
     },
     "execution_count": 214,
     "metadata": {},
     "output_type": "execute_result"
    }
   ],
   "source": [
    "import time\n",
    "def time_calculator(func):\n",
    "    def inner(*args,**kwargs):\n",
    "        print(\"INNER Function ----\")\n",
    "        start_time=time.time()\n",
    "        res=func(*args,**kwargs)\n",
    "        end_time=time.time()\n",
    "        print(\" FUN Time: \",end_time-start_time)\n",
    "        return res\n",
    "    return inner\n",
    "\n",
    "@time_calculator\n",
    "def add(*args,**kwargs):\n",
    "    print(\"   add function --- \",a+b)\n",
    "    return a+b\n",
    "    \n",
    "add(3,4)\n"
   ]
  },
  {
   "cell_type": "markdown",
   "metadata": {},
   "source": [
    "# Lambda "
   ]
  },
  {
   "cell_type": "code",
   "execution_count": 216,
   "metadata": {},
   "outputs": [
    {
     "data": {
      "text/plain": [
       "7"
      ]
     },
     "execution_count": 216,
     "metadata": {},
     "output_type": "execute_result"
    }
   ],
   "source": [
    "f=lambda x,y : x+y\n",
    "f(2,5)"
   ]
  },
  {
   "cell_type": "markdown",
   "metadata": {},
   "source": [
    "# MAP"
   ]
  },
  {
   "cell_type": "code",
   "execution_count": 217,
   "metadata": {},
   "outputs": [
    {
     "name": "stdout",
     "output_type": "stream",
     "text": [
      "[4, 9, 9, 16, 25, 1024, 4, 529, 206116, 1089, 4, 529, 16, 207025, 4096, 9, 1024, 4, 4, 1089, 16, 25, 2809, 9, 1024, 9]\n"
     ]
    }
   ],
   "source": [
    "li=[2,3,3,4,5,32,2,23,454,33,2,23,4,455,64,3,32,2,2,33,4,5,53,3,32,3]\n",
    "out=list(map(lambda x:x*x ,li))\n",
    "print(out)"
   ]
  },
  {
   "cell_type": "markdown",
   "metadata": {},
   "source": [
    "# FILTER"
   ]
  },
  {
   "cell_type": "code",
   "execution_count": 218,
   "metadata": {},
   "outputs": [
    {
     "data": {
      "text/plain": [
       "[1, 1, 3, 5, 13, 21, 55]"
      ]
     },
     "execution_count": 218,
     "metadata": {},
     "output_type": "execute_result"
    }
   ],
   "source": [
    " fib = [0,1,1,2,3,5,8,13,21,34,55]\n",
    "result = filter(lambda x: x % 2, fib)\n",
    "list(result)\n"
   ]
  },
  {
   "cell_type": "markdown",
   "metadata": {},
   "source": [
    "# REDUCE"
   ]
  },
  {
   "cell_type": "code",
   "execution_count": 241,
   "metadata": {},
   "outputs": [
    {
     "data": {
      "text/plain": [
       "102"
      ]
     },
     "execution_count": 241,
     "metadata": {},
     "output_type": "execute_result"
    }
   ],
   "source": [
    "from functools import reduce\n",
    "\n",
    "reduce(lambda a,b:a if (a>b) else b, [47,11,42,102,13])"
   ]
  },
  {
   "cell_type": "code",
   "execution_count": 242,
   "metadata": {},
   "outputs": [
    {
     "data": {
      "text/plain": [
       "113"
      ]
     },
     "execution_count": 242,
     "metadata": {},
     "output_type": "execute_result"
    }
   ],
   "source": [
    "reduce(lambda x,y: x+y, [47,11,42,13])"
   ]
  },
  {
   "cell_type": "code",
   "execution_count": null,
   "metadata": {},
   "outputs": [],
   "source": []
  }
 ],
 "metadata": {
  "kernelspec": {
   "display_name": "anomalib_env",
   "language": "python",
   "name": "anomalib_env"
  },
  "language_info": {
   "codemirror_mode": {
    "name": "ipython",
    "version": 3
   },
   "file_extension": ".py",
   "mimetype": "text/x-python",
   "name": "python",
   "nbconvert_exporter": "python",
   "pygments_lexer": "ipython3",
   "version": "3.8.12"
  }
 },
 "nbformat": 4,
 "nbformat_minor": 4
}

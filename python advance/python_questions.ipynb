{
 "cells": [
  {
   "cell_type": "markdown",
   "metadata": {},
   "source": [
    "# Count latter in string "
   ]
  },
  {
   "cell_type": "code",
   "execution_count": 5,
   "metadata": {},
   "outputs": [
    {
     "name": "stdout",
     "output_type": "stream",
     "text": [
      "14\n"
     ]
    },
    {
     "data": {
      "text/plain": [
       "{'b': 2, 'a': 3, 'n': 1, 'g': 1, 'l': 1, 'o': 1, 'e': 2, 'r': 2, 'z': 1}"
      ]
     },
     "execution_count": 5,
     "metadata": {},
     "output_type": "execute_result"
    }
   ],
   "source": [
    "st=\"bangaloeerabrz\"\n",
    "print(len(st))\n",
    "d={}\n",
    "for i in range(len(st)):\n",
    "    if st[i] not in d:\n",
    "        d[st[i]]=1\n",
    "    else:\n",
    "        continue\n",
    "    for j in range(i+1,len(st)):\n",
    "        if st[i]==st[j]:\n",
    "            d[st[i]]=d[st[i]]+1\n",
    "d"
   ]
  },
  {
   "cell_type": "markdown",
   "metadata": {},
   "source": [
    "# REV a stirng"
   ]
  },
  {
   "cell_type": "code",
   "execution_count": 40,
   "metadata": {},
   "outputs": [
    {
     "name": "stdout",
     "output_type": "stream",
     "text": [
      "9\n",
      "3 4\n",
      "2 5\n",
      "1 6\n",
      "0 7\n"
     ]
    },
    {
     "data": {
      "text/plain": [
       "['r', 'o', 'l', 'a', 'g', 'n', 'a', 'b', 'e', 'b']"
      ]
     },
     "execution_count": 40,
     "metadata": {},
     "output_type": "execute_result"
    }
   ],
   "source": [
    "ostring=\"bangalore\"\n",
    "string=list(ostring)\n",
    "strlen=len(string)\n",
    "print(strlen)\n",
    "\n",
    "mid=int(strlen/2)\n",
    "for c in range(mid):\n",
    "    tmp=string[mid-c-1]\n",
    "    print(mid-c-1,mid+c)\n",
    "    string[mid-c-1]= string[mid+c]\n",
    "    string[mid+c]=tmp\n",
    "if  strlen%2!=0:\n",
    "    string.append(ostring[0])\n",
    "string"
   ]
  },
  {
   "cell_type": "code",
   "execution_count": 49,
   "metadata": {},
   "outputs": [
    {
     "data": {
      "text/plain": [
       "'gnirtso'"
      ]
     },
     "execution_count": 49,
     "metadata": {},
     "output_type": "execute_result"
    }
   ],
   "source": [
    "def revd(st):\n",
    "    if len(st) == 0:\n",
    "        return  st\n",
    "    else:\n",
    "        return revd(st[1:])+st[0]\n",
    "revd(\"ostring\")\n"
   ]
  },
  {
   "cell_type": "markdown",
   "metadata": {},
   "source": [
    "# PRIME NUMBER:"
   ]
  },
  {
   "cell_type": "code",
   "execution_count": null,
   "metadata": {},
   "outputs": [],
   "source": []
  },
  {
   "cell_type": "code",
   "execution_count": null,
   "metadata": {},
   "outputs": [],
   "source": []
  },
  {
   "cell_type": "code",
   "execution_count": null,
   "metadata": {},
   "outputs": [],
   "source": []
  }
 ],
 "metadata": {
  "kernelspec": {
   "display_name": "conda_pytorch_latest_p36",
   "language": "python",
   "name": "conda_pytorch_latest_p36"
  },
  "language_info": {
   "codemirror_mode": {
    "name": "ipython",
    "version": 3
   },
   "file_extension": ".py",
   "mimetype": "text/x-python",
   "name": "python",
   "nbconvert_exporter": "python",
   "pygments_lexer": "ipython3",
   "version": "3.6.10"
  }
 },
 "nbformat": 4,
 "nbformat_minor": 4
}

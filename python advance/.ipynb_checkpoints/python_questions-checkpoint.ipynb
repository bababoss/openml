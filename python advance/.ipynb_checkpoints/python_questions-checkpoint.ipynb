{
 "cells": [
  {
   "cell_type": "markdown",
   "metadata": {},
   "source": [
    "# Count latter in string "
   ]
  },
  {
   "cell_type": "code",
   "execution_count": 217,
   "metadata": {},
   "outputs": [],
   "source": [
    "st=\"bangaloeerabrz\""
   ]
  },
  {
   "cell_type": "code",
   "execution_count": 218,
   "metadata": {},
   "outputs": [
    {
     "data": {
      "text/plain": [
       "{'b': 2, 'a': 3, 'n': 1, 'g': 1, 'l': 1, 'o': 1, 'e': 2, 'r': 2, 'z': 1}"
      ]
     },
     "execution_count": 218,
     "metadata": {},
     "output_type": "execute_result"
    }
   ],
   "source": [
    "dictf={}\n",
    "for c in st:\n",
    "    if c in dictf:\n",
    "        dictf[c]=dictf[c]+1\n",
    "    else:\n",
    "        dictf[c]=1\n",
    "dictf"
   ]
  },
  {
   "cell_type": "markdown",
   "metadata": {},
   "source": [
    "# REV a stirng"
   ]
  },
  {
   "cell_type": "code",
   "execution_count": 40,
   "metadata": {},
   "outputs": [
    {
     "name": "stdout",
     "output_type": "stream",
     "text": [
      "9\n",
      "3 4\n",
      "2 5\n",
      "1 6\n",
      "0 7\n"
     ]
    },
    {
     "data": {
      "text/plain": [
       "['r', 'o', 'l', 'a', 'g', 'n', 'a', 'b', 'e', 'b']"
      ]
     },
     "execution_count": 40,
     "metadata": {},
     "output_type": "execute_result"
    }
   ],
   "source": [
    "ostring=\"bangalore\"\n",
    "string=list(ostring)\n",
    "strlen=len(string)\n",
    "print(strlen)\n",
    "\n",
    "mid=int(strlen/2)\n",
    "for c in range(mid):\n",
    "    tmp=string[mid-c-1]\n",
    "    print(mid-c-1,mid+c)\n",
    "    string[mid-c-1]= string[mid+c]\n",
    "    string[mid+c]=tmp\n",
    "if  strlen%2!=0:\n",
    "    string.append(ostring[0])\n",
    "string"
   ]
  },
  {
   "cell_type": "code",
   "execution_count": 49,
   "metadata": {},
   "outputs": [
    {
     "data": {
      "text/plain": [
       "'gnirtso'"
      ]
     },
     "execution_count": 49,
     "metadata": {},
     "output_type": "execute_result"
    }
   ],
   "source": [
    "def revd(st):\n",
    "    if len(st) == 0:\n",
    "        return  st\n",
    "    else:\n",
    "        return revd(st[1:])+st[0]\n",
    "revd(\"ostring\")\n"
   ]
  },
  {
   "cell_type": "markdown",
   "metadata": {},
   "source": [
    "# PRIME NUMBER:"
   ]
  },
  {
   "cell_type": "code",
   "execution_count": 59,
   "metadata": {},
   "outputs": [],
   "source": [
    "def prime(n):\n",
    "    if n==2 or n==3:\n",
    "        return  True\n",
    "    if n%2==0 or n%3==0:\n",
    "        return False\n",
    "    i=5\n",
    "    for j  in  range(i*i,n):\n",
    "        if n%j==0 or n%(j+2)==0:\n",
    "            return False\n",
    "        i=i+6\n",
    "    return True\n"
   ]
  },
  {
   "cell_type": "markdown",
   "metadata": {},
   "source": [
    "# Daimond Print"
   ]
  },
  {
   "cell_type": "code",
   "execution_count": 97,
   "metadata": {},
   "outputs": [
    {
     "name": "stdout",
     "output_type": "stream",
     "text": [
      "    *\n",
      "\n",
      "   ***\n",
      "\n",
      "  *****\n",
      "\n",
      " *******\n",
      "\n",
      "*********\n",
      "\n",
      "*********\n",
      "\n",
      " *******\n",
      "\n",
      "  *****\n",
      "\n",
      "   ***\n",
      "\n",
      "    *\n",
      "\n"
     ]
    }
   ],
   "source": [
    "n=5\n",
    "for i in range(n):\n",
    "    for j in range(n-1-i):\n",
    "        print(\" \",end='')\n",
    "    for j in range(2*i+1):\n",
    "        print(\"*\",end='')\n",
    "    print('\\n')\n",
    "    \n",
    "for i in range(n):\n",
    "    for j in range(i):\n",
    "        print(\" \",end='')\n",
    "    for j in range(2*(n-i)-1):\n",
    "        print(\"*\",end='')\n",
    "    print('\\n')"
   ]
  },
  {
   "cell_type": "markdown",
   "metadata": {},
   "source": [
    "# SWAP"
   ]
  },
  {
   "cell_type": "code",
   "execution_count": 109,
   "metadata": {},
   "outputs": [],
   "source": [
    "a=7\n",
    "b=11\n",
    "\n",
    "a=a+b # a=18,b=11\n",
    "\n",
    "b=a-b  # a=18, b=7  --->a-b=18-11\n",
    "a=a-b   # a=11, b=7  --- > 18-7"
   ]
  },
  {
   "cell_type": "code",
   "execution_count": 120,
   "metadata": {},
   "outputs": [
    {
     "data": {
      "text/plain": [
       "(5, 10)"
      ]
     },
     "execution_count": 120,
     "metadata": {},
     "output_type": "execute_result"
    }
   ],
   "source": [
    "x = 10\n",
    "y = 5\n",
    "  \n",
    "# Code to swap 'x' and 'y' \n",
    "x = x ^ y; # x now becomes 15 (1111) \n",
    "y = x ^ y; # y becomes 10 (1010) \n",
    "x = x ^ y; # x becomes 5 (0101) \n",
    "x,y"
   ]
  },
  {
   "cell_type": "markdown",
   "metadata": {},
   "source": [
    "# BITWISE Right  SHIFT DEVIDE  2n"
   ]
  },
  {
   "cell_type": "code",
   "execution_count": 118,
   "metadata": {},
   "outputs": [
    {
     "data": {
      "text/plain": [
       "8"
      ]
     },
     "execution_count": 118,
     "metadata": {},
     "output_type": "execute_result"
    }
   ],
   "source": [
    "a=32\n",
    "b=a>>1 #32/2\n",
    "b>>1  # 16/2"
   ]
  },
  {
   "cell_type": "markdown",
   "metadata": {},
   "source": [
    "# BITWISE LEFT SHIFT MULTPLICATIOOMN 2n"
   ]
  },
  {
   "cell_type": "code",
   "execution_count": 113,
   "metadata": {},
   "outputs": [
    {
     "data": {
      "text/plain": [
       "240"
      ]
     },
     "execution_count": 113,
     "metadata": {},
     "output_type": "execute_result"
    }
   ],
   "source": [
    "a=30\n",
    "b=a<<1  # 30*2\n",
    "b<<2  # 60*2"
   ]
  },
  {
   "cell_type": "markdown",
   "metadata": {},
   "source": [
    "# A Generator for Fibonacci Numbers."
   ]
  },
  {
   "cell_type": "code",
   "execution_count": 214,
   "metadata": {},
   "outputs": [
    {
     "name": "stdout",
     "output_type": "stream",
     "text": [
      "0\n",
      "1\n",
      "1\n",
      "2\n",
      "3\n",
      "5\n",
      "8\n",
      "13\n",
      "21\n"
     ]
    }
   ],
   "source": [
    "def genfibonacci(limit):\n",
    "    a,b=0,1\n",
    "    while(a<limit):\n",
    "        yield a\n",
    "        a,b=b,a+b\n",
    "        \n",
    "        \n",
    "fib=genfibonacci(30)\n",
    "for i in range(9):\n",
    "    print(fib.__next__())"
   ]
  },
  {
   "cell_type": "markdown",
   "metadata": {},
   "source": [
    "# Revers word in given string"
   ]
  },
  {
   "cell_type": "code",
   "execution_count": 184,
   "metadata": {},
   "outputs": [
    {
     "data": {
      "text/plain": [
       "'string given in word Revers'"
      ]
     },
     "execution_count": 184,
     "metadata": {},
     "output_type": "execute_result"
    }
   ],
   "source": [
    "string=\"Revers word in given string\"\n",
    "' '.join(string.split(' ')[::-1])\n"
   ]
  },
  {
   "cell_type": "markdown",
   "metadata": {},
   "source": [
    "# Decorators"
   ]
  },
  {
   "cell_type": "code",
   "execution_count": 213,
   "metadata": {},
   "outputs": [
    {
     "name": "stdout",
     "output_type": "stream",
     "text": [
      "INNER Function ----\n",
      "   add function ---  3\n",
      " FUN Time:  8.0108642578125e-05\n"
     ]
    },
    {
     "data": {
      "text/plain": [
       "3"
      ]
     },
     "execution_count": 213,
     "metadata": {},
     "output_type": "execute_result"
    }
   ],
   "source": [
    "import time\n",
    "def time_calculator(func):\n",
    "    def inner(*args,**kwargs):\n",
    "        print(\"INNER Function ----\")\n",
    "        start_time=time.time()\n",
    "        res=func(*args,**kwargs)\n",
    "        end_time=time.time()\n",
    "        print(\" FUN Time: \",end_time-start_time)\n",
    "        return res\n",
    "    return inner\n",
    "@time_calculator\n",
    "def add(*args,**kwargs):\n",
    "    print(\"   add function --- \",a+b)\n",
    "    return a+b\n",
    "    \n",
    "add(3,4)\n"
   ]
  },
  {
   "cell_type": "code",
   "execution_count": null,
   "metadata": {},
   "outputs": [],
   "source": []
  },
  {
   "cell_type": "code",
   "execution_count": null,
   "metadata": {},
   "outputs": [],
   "source": []
  }
 ],
 "metadata": {
  "kernelspec": {
   "display_name": "conda_pytorch_latest_p36",
   "language": "python",
   "name": "conda_pytorch_latest_p36"
  },
  "language_info": {
   "codemirror_mode": {
    "name": "ipython",
    "version": 3
   },
   "file_extension": ".py",
   "mimetype": "text/x-python",
   "name": "python",
   "nbconvert_exporter": "python",
   "pygments_lexer": "ipython3",
   "version": "3.6.10"
  }
 },
 "nbformat": 4,
 "nbformat_minor": 4
}

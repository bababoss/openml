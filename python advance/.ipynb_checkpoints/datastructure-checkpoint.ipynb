{
 "cells": [
  {
   "cell_type": "markdown",
   "metadata": {},
   "source": [
    "# Binary Tree "
   ]
  },
  {
   "cell_type": "code",
   "execution_count": 29,
   "metadata": {},
   "outputs": [],
   "source": [
    "class Btree():\n",
    "    \n",
    "    def __init__(self,item):\n",
    "        self.left=None\n",
    "        self.right=None\n",
    "        self.data=item\n",
    "        \n",
    "    def setData(self,data):\n",
    "        self.data=data\n",
    "    def getLeft():\n",
    "        return self.left\n",
    "    def getRight():\n",
    "        return self.right\n",
    "    \n",
    "    \n",
    "def preorderTravers(root,result):\n",
    "    if not root:\n",
    "        return\n",
    "    result.append(root.data)\n",
    "    preorderTravers(root.left,result)\n",
    "    preorderTravers(root.right,result)\n",
    "    \n",
    "def inorderTravers(root,result):\n",
    "    if not root:\n",
    "        return\n",
    "    \n",
    "    preorderTravers(root.left,result)\n",
    "    result.append(root.data)\n",
    "    preorderTravers(root.right,result)\n",
    "    \n",
    "def postorderTravers(root,result):\n",
    "    if not root:\n",
    "        return\n",
    "    \n",
    "    preorderTravers(root.left,result)\n",
    "    preorderTravers(root.right,result)\n",
    "    result.append(root.data)"
   ]
  },
  {
   "cell_type": "code",
   "execution_count": 24,
   "metadata": {},
   "outputs": [],
   "source": [
    "root=Btree(33)\n",
    "root.left=Btree(32)\n",
    "root.right=Btree(14)\n",
    "root.left.left=Btree(24)\n",
    "root.left.right=Btree(31)\n",
    "result=[]\n",
    "preorderTravers(root,result)"
   ]
  },
  {
   "cell_type": "code",
   "execution_count": 23,
   "metadata": {},
   "outputs": [
    {
     "data": {
      "text/plain": [
       "[33, 32, 24, 31, 14]"
      ]
     },
     "execution_count": 23,
     "metadata": {},
     "output_type": "execute_result"
    }
   ],
   "source": [
    "result"
   ]
  },
  {
   "cell_type": "code",
   "execution_count": 31,
   "metadata": {},
   "outputs": [
    {
     "data": {
      "text/plain": [
       "[32, 24, 31, 33, 14]"
      ]
     },
     "execution_count": 31,
     "metadata": {},
     "output_type": "execute_result"
    }
   ],
   "source": [
    "result1=[]\n",
    "inorderTravers(root,result1)\n",
    "result1"
   ]
  },
  {
   "cell_type": "code",
   "execution_count": 30,
   "metadata": {},
   "outputs": [
    {
     "data": {
      "text/plain": [
       "[32, 24, 31, 14, 33]"
      ]
     },
     "execution_count": 30,
     "metadata": {},
     "output_type": "execute_result"
    }
   ],
   "source": [
    "result2=[]\n",
    "postorderTravers(root,result2)\n",
    "result2"
   ]
  },
  {
   "cell_type": "code",
   "execution_count": null,
   "metadata": {},
   "outputs": [],
   "source": []
  }
 ],
 "metadata": {
  "kernelspec": {
   "display_name": "conda_pytorch_latest_p36",
   "language": "python",
   "name": "conda_pytorch_latest_p36"
  },
  "language_info": {
   "codemirror_mode": {
    "name": "ipython",
    "version": 3
   },
   "file_extension": ".py",
   "mimetype": "text/x-python",
   "name": "python",
   "nbconvert_exporter": "python",
   "pygments_lexer": "ipython3",
   "version": "3.6.10"
  }
 },
 "nbformat": 4,
 "nbformat_minor": 4
}
